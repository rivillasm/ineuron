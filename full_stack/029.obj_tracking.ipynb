{
 "cells": [
  {
   "cell_type": "markdown",
   "id": "bfb19cb7-bfb8-4f02-b2b5-e86717868a25",
   "metadata": {},
   "source": [
    "# OBJECT TRACKING\n",
    "* sometimes you can detect the object\n",
    "* now you want to track it"
   ]
  },
  {
   "cell_type": "markdown",
   "id": "b6145ca8-fe1e-4b4f-a82d-365510a6dd29",
   "metadata": {},
   "source": []
  },
  {
   "cell_type": "markdown",
   "id": "9b893cde-396d-43c7-bf9e-c195eda23a0a",
   "metadata": {},
   "source": []
  },
  {
   "cell_type": "markdown",
   "id": "48d52976-ae3a-469e-ae3c-bf82eb06b280",
   "metadata": {},
   "source": []
  },
  {
   "cell_type": "markdown",
   "id": "9f4d735f-7da3-4789-9afa-d6a8e024f96b",
   "metadata": {},
   "source": []
  },
  {
   "cell_type": "markdown",
   "id": "61a737fe-8d73-4238-b76d-1b687c402504",
   "metadata": {},
   "source": []
  },
  {
   "cell_type": "markdown",
   "id": "bd09c6bd-4a6c-434b-ad2a-0551015aaf3e",
   "metadata": {},
   "source": []
  },
  {
   "cell_type": "markdown",
   "id": "577a0a5f-9e10-4caf-b80e-610032ae24ee",
   "metadata": {},
   "source": []
  },
  {
   "cell_type": "markdown",
   "id": "e4d04975-8b22-44ea-b619-d5bf37f18694",
   "metadata": {},
   "source": []
  },
  {
   "cell_type": "markdown",
   "id": "31d38efc-d87c-47ae-a33b-ab49ff4c256d",
   "metadata": {},
   "source": []
  },
  {
   "cell_type": "markdown",
   "id": "4ef97a7f-6320-4b30-9d4d-a4e65f24bb5a",
   "metadata": {},
   "source": []
  },
  {
   "cell_type": "markdown",
   "id": "662fb8dd-d9a8-4595-9996-a64434956f91",
   "metadata": {},
   "source": []
  },
  {
   "cell_type": "markdown",
   "id": "d805f861-5a37-41f2-95ba-c03d9419c5e1",
   "metadata": {},
   "source": []
  }
 ],
 "metadata": {
  "kernelspec": {
   "display_name": "Python 3 (ipykernel)",
   "language": "python",
   "name": "python3"
  },
  "language_info": {
   "codemirror_mode": {
    "name": "ipython",
    "version": 3
   },
   "file_extension": ".py",
   "mimetype": "text/x-python",
   "name": "python",
   "nbconvert_exporter": "python",
   "pygments_lexer": "ipython3",
   "version": "3.9.13"
  }
 },
 "nbformat": 4,
 "nbformat_minor": 5
}
