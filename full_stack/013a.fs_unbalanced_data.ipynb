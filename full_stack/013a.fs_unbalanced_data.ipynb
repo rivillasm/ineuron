{
 "cells": [
  {
   "cell_type": "markdown",
   "id": "54e8a947-8a56-46e3-bcda-bb1b10a803f3",
   "metadata": {},
   "source": [
    "https://www.analyticsvidhya.com/blog/2020/07/10-techniques-to-deal-with-class-imbalance-in-machine-learning/"
   ]
  },
  {
   "cell_type": "markdown",
   "id": "2ece133f-12da-4256-a9e4-f0b49b4d6d7b",
   "metadata": {},
   "source": []
  },
  {
   "cell_type": "markdown",
   "id": "7458e09c-1610-4c19-8d51-44cd34027c7c",
   "metadata": {},
   "source": []
  },
  {
   "cell_type": "markdown",
   "id": "ecb9920a-b803-44fc-a502-ae947ada043e",
   "metadata": {},
   "source": []
  },
  {
   "cell_type": "markdown",
   "id": "c476f3a4-cc5b-44ef-a4f3-901a481d524c",
   "metadata": {},
   "source": []
  },
  {
   "cell_type": "markdown",
   "id": "2e18e698-51fc-4e5d-84f6-9959987f591b",
   "metadata": {},
   "source": []
  },
  {
   "cell_type": "markdown",
   "id": "749799a1-b8d6-41fa-81ea-daee4aa801bf",
   "metadata": {},
   "source": []
  },
  {
   "cell_type": "markdown",
   "id": "f93d66d4-b2db-4c20-b9cd-791eaa4ad1fc",
   "metadata": {},
   "source": []
  },
  {
   "cell_type": "markdown",
   "id": "9e8f733b-abdb-47ae-91d4-3c905b4058a7",
   "metadata": {},
   "source": []
  },
  {
   "cell_type": "markdown",
   "id": "e017066e-2957-461b-8b55-d7e662d01118",
   "metadata": {},
   "source": []
  },
  {
   "cell_type": "markdown",
   "id": "7c7c1c0b-3c48-4b8e-8f28-f67b1862d161",
   "metadata": {},
   "source": []
  },
  {
   "cell_type": "markdown",
   "id": "c9295f4b-6f15-4ab2-a871-3a7b35fb7aaa",
   "metadata": {},
   "source": []
  }
 ],
 "metadata": {
  "kernelspec": {
   "display_name": "Python 3 (ipykernel)",
   "language": "python",
   "name": "python3"
  },
  "language_info": {
   "codemirror_mode": {
    "name": "ipython",
    "version": 3
   },
   "file_extension": ".py",
   "mimetype": "text/x-python",
   "name": "python",
   "nbconvert_exporter": "python",
   "pygments_lexer": "ipython3",
   "version": "3.9.13"
  }
 },
 "nbformat": 4,
 "nbformat_minor": 5
}
