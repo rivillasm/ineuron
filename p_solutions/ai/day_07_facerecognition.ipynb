{
 "cells": [
  {
   "cell_type": "markdown",
   "id": "97f90498-8ed3-4abc-aa32-a8b97cbcaf24",
   "metadata": {},
   "source": [
    "# face recognition using opencv"
   ]
  },
  {
   "cell_type": "code",
   "execution_count": null,
   "id": "2291e5f9-5aa9-4dda-9326-51b535223b4c",
   "metadata": {},
   "outputs": [],
   "source": []
  }
 ],
 "metadata": {
  "kernelspec": {
   "display_name": "Python 3 (ipykernel)",
   "language": "python",
   "name": "python3"
  },
  "language_info": {
   "codemirror_mode": {
    "name": "ipython",
    "version": 3
   },
   "file_extension": ".py",
   "mimetype": "text/x-python",
   "name": "python",
   "nbconvert_exporter": "python",
   "pygments_lexer": "ipython3",
   "version": "3.9.13"
  }
 },
 "nbformat": 4,
 "nbformat_minor": 5
}
