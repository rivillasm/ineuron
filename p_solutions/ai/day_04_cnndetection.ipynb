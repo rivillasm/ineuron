{
 "cells": [
  {
   "cell_type": "code",
   "execution_count": 3,
   "id": "a1f60957-51a5-4e3a-872f-f269207163e8",
   "metadata": {},
   "outputs": [
    {
     "name": "stdout",
     "output_type": "stream",
     "text": [
      "Collecting opencv-contrib-python\n",
      "  Downloading opencv_contrib_python-4.7.0.72-cp37-abi3-win_amd64.whl (44.9 MB)\n",
      "     --------------------------------------- 44.9/44.9 MB 24.2 MB/s eta 0:00:00\n",
      "Requirement already satisfied: numpy>=1.19.3 in c:\\users\\rivil\\anaconda3\\lib\\site-packages (from opencv-contrib-python) (1.21.5)\n",
      "Installing collected packages: opencv-contrib-python\n",
      "Successfully installed opencv-contrib-python-4.7.0.72\n"
     ]
    }
   ],
   "source": [
    "!pip install opencv-contrib-python"
   ]
  },
  {
   "cell_type": "code",
   "execution_count": 5,
   "id": "fa31bcb0-38ba-4ad7-8fcf-0111096756c3",
   "metadata": {},
   "outputs": [
    {
     "name": "stdout",
     "output_type": "stream",
     "text": [
      "Collecting imutils\n",
      "  Using cached imutils-0.5.4.tar.gz (17 kB)\n",
      "  Preparing metadata (setup.py): started\n",
      "  Preparing metadata (setup.py): finished with status 'done'\n",
      "Building wheels for collected packages: imutils\n",
      "  Building wheel for imutils (setup.py): started\n",
      "  Building wheel for imutils (setup.py): finished with status 'done'\n",
      "  Created wheel for imutils: filename=imutils-0.5.4-py3-none-any.whl size=25847 sha256=671dfe76649f2e7157d27de1d4b40ad3812577dec29824404469c49e78708dd3\n",
      "  Stored in directory: c:\\users\\rivil\\appdata\\local\\pip\\cache\\wheels\\4b\\a5\\2d\\4a070a801d3a3d93f033d3ee9728f470f514826e89952df3ea\n",
      "Successfully built imutils\n",
      "Installing collected packages: imutils\n",
      "Successfully installed imutils-0.5.4\n"
     ]
    }
   ],
   "source": [
    "!pip install imutils"
   ]
  },
  {
   "cell_type": "code",
   "execution_count": 6,
   "id": "d8f62c71-70a9-411f-af42-75a04247aa82",
   "metadata": {},
   "outputs": [],
   "source": [
    "import cv2\n",
    "import time\n",
    "import imutils #resizing library"
   ]
  },
  {
   "cell_type": "code",
   "execution_count": 13,
   "id": "7569af9f-101e-4fa8-aac6-a627b363463b",
   "metadata": {},
   "outputs": [],
   "source": [
    "cam = cv2.VideoCapture(0)   #initializae the camera\n",
    "time.sleep(1)               # 1 second dealy\n",
    "firstFrame=None             # initializes there is not object\n",
    "area = 500                  #threshold\n",
    "\n",
    "while(True):\n",
    "    _,img = cam.read()                    # read the frame from the camera\n",
    "    text = \"Normal\"                       # initializes the text as Normal\n",
    "    img=imutils.resize(img, width=area)   # resize the image\n",
    "    grayImg = cv2.cvtColor(img,cv2.COLOR_BGR2GRAY)              # converts color to gray\n",
    "    gaussianImg = cv2.GaussianBlur(grayImg, (21,21) , 0)        # smooth the image\n",
    "    \n",
    "    if firstFrame is None:\n",
    "        firstFrame = gaussianImg          # saving the first preprocessed image\n",
    "        continue\n",
    "    \n",
    "    imgDiff = cv2.absdiff(firstFrame, gaussianImg)              # subtracts current from from initial one\n",
    "    \n",
    "    # after the difference, the threshold transform the diff into black hole\n",
    "    threshImg = cv2.threshold(imgDiff, 25, 255, cv2.THRESH_BINARY)[1]\n",
    "    \n",
    "    # dialation fulls the small remaining holes\n",
    "    threshImg = cv2.dilate(threshImg, None, iterations=2)       # removes holes in the image\n",
    "    \n",
    "    # Contours can be explained simply as a curve joining all the continuous points (along the boundary), \n",
    "    # having same color or intensity. \n",
    "    # The contours are a useful tool for shape analysis and object detection and recognition.\n",
    "    # covers up the whole moving object as a single area\n",
    "    cnts = cv2.findcontours(threshImg.copy(), cv2.RETR_EXTERNAL, cv2.CHAIN_APPROX_SIMPLE)\n",
    "    \n",
    "    cnts = imutils.grab_contours(cnts)\n",
    "    for c in cnts:\n",
    "        if cv2.countourArea(c)<area:\n",
    "            continue\n",
    "        (x,y,w,h) = cv2.boundingRect(c)\n",
    "        cv2.rectangel(img. (x,y), (x+w,y+h), (0,255,0),2)   # color and thickness (0,255,0),2\n",
    "        text=\"Moving Object Detected\"\n",
    "    print(text)\n",
    "    \n",
    "    # (10,20) text coordinates, font cv2.FONT_HERSHEY_SIMPLEX, font size 0.5, font color (0,0,255),2) \n",
    "    cv2.putText(img,text,(10,20),cv2.FONT_HERSHEY_SIMPLEX, 0.5, (0,0,255),2) \n",
    "    cv2.imshow(\"cameraFeed\",img)\n",
    "    \n",
    "    # set the quit keyboard\n",
    "    key = cv2.waitKey(1) & 0xFF\n",
    "    if key == ord(\"q\"):\n",
    "        break\n",
    "        \n",
    "cam.release()\n",
    "cv2.destroyAllWindows()\n"
   ]
  },
  {
   "cell_type": "code",
   "execution_count": null,
   "id": "c1f8c181-38de-4f7f-a188-66e424d85619",
   "metadata": {},
   "outputs": [],
   "source": []
  }
 ],
 "metadata": {
  "kernelspec": {
   "display_name": "Python 3 (ipykernel)",
   "language": "python",
   "name": "python3"
  },
  "language_info": {
   "codemirror_mode": {
    "name": "ipython",
    "version": 3
   },
   "file_extension": ".py",
   "mimetype": "text/x-python",
   "name": "python",
   "nbconvert_exporter": "python",
   "pygments_lexer": "ipython3",
   "version": "3.9.13"
  }
 },
 "nbformat": 4,
 "nbformat_minor": 5
}
