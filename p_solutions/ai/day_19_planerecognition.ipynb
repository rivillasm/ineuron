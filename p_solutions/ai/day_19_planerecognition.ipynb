{
 "cells": [
  {
   "cell_type": "markdown",
   "id": "6f6fc77a-8ba0-4ffa-9465-09e61ec7119e",
   "metadata": {},
   "source": [
    "# PLATE RECOGNIZTION\n",
    "\n",
    "https://www.youtube.com/watch?v=YqoTDxH1dW0"
   ]
  },
  {
   "cell_type": "markdown",
   "id": "20d5295f-35cb-4d64-871c-ddaf4a25474a",
   "metadata": {},
   "source": []
  }
 ],
 "metadata": {
  "kernelspec": {
   "display_name": "Python 3 (ipykernel)",
   "language": "python",
   "name": "python3"
  },
  "language_info": {
   "codemirror_mode": {
    "name": "ipython",
    "version": 3
   },
   "file_extension": ".py",
   "mimetype": "text/x-python",
   "name": "python",
   "nbconvert_exporter": "python",
   "pygments_lexer": "ipython3",
   "version": "3.9.13"
  }
 },
 "nbformat": 4,
 "nbformat_minor": 5
}
