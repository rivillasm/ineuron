{
 "cells": [
  {
   "cell_type": "markdown",
   "id": "a7e6279b-0155-45bc-9b80-9e49aa71ddc8",
   "metadata": {},
   "source": [
    "# IMAGE CLASSIFICATION USING CNN"
   ]
  },
  {
   "cell_type": "code",
   "execution_count": null,
   "id": "5bddc6a9-58fe-45a8-848b-edc7bc158a4e",
   "metadata": {},
   "outputs": [],
   "source": [
    "import os\n",
    "from google_images_download import google_images_download\n",
    "\n",
    "def download_images(query, limit):\n",
    "    # Create an instance of the library\n",
    "    response = google_images_download.googleimagesdownload()\n",
    "\n",
    "    # Define the arguments for the image search\n",
    "    arguments = {\n",
    "        \"keywords\": query,\n",
    "        \"limit\": limit,\n",
    "        \"print_urls\": True,\n",
    "        \"output_directory\": \"downloads\"  # Specify the directory where images will be saved\n",
    "    }\n",
    "\n",
    "    # Download the images\n",
    "    try:\n",
    "        response.download(arguments)\n",
    "    except Exception as e:\n",
    "        print(f\"Error occurred: {str(e)}\")\n",
    "\n",
    "# Example usage\n",
    "query = \"cat\"  # Specify your desired search query\n",
    "limit = 10  # Specify the number of images to download\n",
    "\n",
    "# Create the output directory if it doesn't exist\n",
    "os.makedirs(\"datasets_day12/\", exist_ok=True)\n",
    "\n",
    "# Call the function to download the images\n",
    "download_images(query, limit)\n",
    "In this code, we import the necessary libraries, create a function download_images that utilizes the google_images_download library, and specify the search query and the number of images to download. The downloaded images will be saved in the \"downloads\" directory (which will be created if it doesn't exist).\n",
    "\n",
    "\n",
    "\n",
    "\n",
    "\n",
    "\n",
    "Regenerate response"
   ]
  },
  {
   "cell_type": "markdown",
   "id": "cf05e545-cddd-405d-ae5f-4d615fd8044c",
   "metadata": {},
   "source": []
  },
  {
   "cell_type": "markdown",
   "id": "54102947-ffe8-43e9-be83-67c94e10b223",
   "metadata": {},
   "source": []
  },
  {
   "cell_type": "markdown",
   "id": "314a461a-d662-4a6e-8d6e-76956c57d183",
   "metadata": {},
   "source": []
  },
  {
   "cell_type": "markdown",
   "id": "94d9718e-71ca-4fe8-b4f8-eba7213c378c",
   "metadata": {},
   "source": []
  },
  {
   "cell_type": "markdown",
   "id": "1b5a2e07-421f-4fef-b187-ff63e33d3d1f",
   "metadata": {},
   "source": []
  },
  {
   "cell_type": "markdown",
   "id": "5864f404-6275-4fde-8561-ab2e41a07bb5",
   "metadata": {},
   "source": []
  },
  {
   "cell_type": "markdown",
   "id": "b9c80de9-2854-4967-a0a5-01f4cc88d076",
   "metadata": {},
   "source": []
  },
  {
   "cell_type": "markdown",
   "id": "371f5bd8-6f0a-4623-8f7a-4584377f3318",
   "metadata": {},
   "source": []
  },
  {
   "cell_type": "markdown",
   "id": "20e7a93e-c42d-4052-9438-b0e99aaf2ba7",
   "metadata": {},
   "source": []
  },
  {
   "cell_type": "markdown",
   "id": "46f8243e-8183-4a53-8d9e-f519fa432d33",
   "metadata": {},
   "source": []
  }
 ],
 "metadata": {
  "kernelspec": {
   "display_name": "Python 3 (ipykernel)",
   "language": "python",
   "name": "python3"
  },
  "language_info": {
   "codemirror_mode": {
    "name": "ipython",
    "version": 3
   },
   "file_extension": ".py",
   "mimetype": "text/x-python",
   "name": "python",
   "nbconvert_exporter": "python",
   "pygments_lexer": "ipython3",
   "version": "3.9.13"
  }
 },
 "nbformat": 4,
 "nbformat_minor": 5
}
